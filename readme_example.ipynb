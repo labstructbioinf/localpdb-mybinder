{
 "cells": [
  {
   "cell_type": "code",
   "execution_count": null,
   "metadata": {},
   "outputs": [],
   "source": [
    "from localpdb import PDB\n",
    "import gzip\n",
    "\n",
    "lpdb = PDB(db_path='./lpdb_data')\n",
    "lpdb.entries = lpdb.entries.query('type == \"prot\"') # Protein structures\n",
    "lpdb.entries = lpdb.entries.query('method == \"diffraction\"') # solved with X-ray diffraction\n",
    "lpdb.entries = lpdb.entries.query('resolution <= 2.5') # with resolution below 2.5A\n",
    "lpdb.entries = lpdb.entries.query('deposition_date.dt.year >= 2010') # added after 2010\n",
    "lpdb.chains = lpdb.chains.query('ncbi_taxid == \"9606\"') # human proteins\n",
    "# lpdb.ecod = lpdb.ecod.query('t_name == \"S-adenosyl-L-methionine-dependent methyltransferases\"') # SAM dependent methyltransferases\n",
    "\n",
    "# Remove redundancy (select only representative structure from each sequence cluster)\n",
    "lpdb.load_clustering_data(redundancy=90)\n",
    "lpdb.chains = lpdb.chains[lpdb.chains['clust-90'].notnull()]\n",
    "\n",
    "representative = lpdb.chains.groupby(by='clust-90')['resolution'].idxmin()\n",
    "lpdb.chains = lpdb.chains.loc[representative]\n",
    "\n",
    "lpdb.chains.to_csv('dataset.csv') # Save dataset"
   ]
  }
 ],
 "metadata": {
  "kernelspec": {
   "display_name": "Python 3",
   "language": "python",
   "name": "python3"
  },
  "language_info": {
   "codemirror_mode": {
    "name": "ipython",
    "version": 3
   },
   "file_extension": ".py",
   "mimetype": "text/x-python",
   "name": "python",
   "nbconvert_exporter": "python",
   "pygments_lexer": "ipython3",
   "version": "3.6.8"
  }
 },
 "nbformat": 4,
 "nbformat_minor": 2
}
